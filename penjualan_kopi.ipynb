{
 "cells": [
  {
   "cell_type": "code",
   "execution_count": 3,
   "id": "1951b7ae-6a9a-4250-a384-d8c9bce37873",
   "metadata": {},
   "outputs": [
    {
     "name": "stdout",
     "output_type": "stream",
     "text": [
      "Requirement already satisfied: pandas in c:\\users\\pc\\appdata\\local\\programs\\python\\python313\\lib\\site-packages (2.3.1)\n",
      "Requirement already satisfied: numpy>=1.26.0 in c:\\users\\pc\\appdata\\local\\programs\\python\\python313\\lib\\site-packages (from pandas) (2.3.2)\n",
      "Requirement already satisfied: python-dateutil>=2.8.2 in c:\\users\\pc\\appdata\\local\\programs\\python\\python313\\lib\\site-packages (from pandas) (2.9.0.post0)\n",
      "Requirement already satisfied: pytz>=2020.1 in c:\\users\\pc\\appdata\\local\\programs\\python\\python313\\lib\\site-packages (from pandas) (2025.2)\n",
      "Requirement already satisfied: tzdata>=2022.7 in c:\\users\\pc\\appdata\\local\\programs\\python\\python313\\lib\\site-packages (from pandas) (2025.2)\n",
      "Requirement already satisfied: six>=1.5 in c:\\users\\pc\\appdata\\local\\programs\\python\\python313\\lib\\site-packages (from python-dateutil>=2.8.2->pandas) (1.17.0)\n",
      "Note: you may need to restart the kernel to use updated packages.\n"
     ]
    }
   ],
   "source": [
    "pip install pandas"
   ]
  },
  {
   "cell_type": "code",
   "execution_count": 4,
   "id": "5085e097-17eb-46ba-8e41-cea2c6071ad0",
   "metadata": {},
   "outputs": [],
   "source": [
    "import pandas as pd"
   ]
  },
  {
   "cell_type": "code",
   "execution_count": 8,
   "id": "2501922d-fdee-40e6-b156-1c36f54e3e0b",
   "metadata": {},
   "outputs": [
    {
     "name": "stdout",
     "output_type": "stream",
     "text": [
      "            date                 datetime cash_type                 card  \\\n",
      "0     2024-03-01  2024-03-01 10:15:50.520      card  ANON-0000-0000-0001   \n",
      "1     2024-03-01  2024-03-01 12:19:22.539      card  ANON-0000-0000-0002   \n",
      "2     2024-03-01  2024-03-01 12:20:18.089      card  ANON-0000-0000-0002   \n",
      "3     2024-03-01  2024-03-01 13:46:33.006      card  ANON-0000-0000-0003   \n",
      "4     2024-03-01  2024-03-01 13:48:14.626      card  ANON-0000-0000-0004   \n",
      "...          ...                      ...       ...                  ...   \n",
      "3631  2025-03-23  2025-03-23 10:34:54.894      card  ANON-0000-0000-1158   \n",
      "3632  2025-03-23  2025-03-23 14:43:37.362      card  ANON-0000-0000-1315   \n",
      "3633  2025-03-23  2025-03-23 14:44:16.864      card  ANON-0000-0000-1315   \n",
      "3634  2025-03-23  2025-03-23 15:47:28.723      card  ANON-0000-0000-1316   \n",
      "3635  2025-03-23  2025-03-23 18:11:38.635      card  ANON-0000-0000-1275   \n",
      "\n",
      "      money    coffee_name  \n",
      "0     38.70          Latte  \n",
      "1     38.70  Hot Chocolate  \n",
      "2     38.70  Hot Chocolate  \n",
      "3     28.90      Americano  \n",
      "4     38.70          Latte  \n",
      "...     ...            ...  \n",
      "3631  35.76     Cappuccino  \n",
      "3632  35.76          Cocoa  \n",
      "3633  35.76          Cocoa  \n",
      "3634  25.96      Americano  \n",
      "3635  35.76          Latte  \n",
      "\n",
      "[3636 rows x 6 columns]\n"
     ]
    }
   ],
   "source": [
    "rs = pd.read_csv(\"index_1.csv\")\n",
    "\n",
    "print (rs)"
   ]
  },
  {
   "cell_type": "code",
   "execution_count": 9,
   "id": "288f86fa-4f2e-4920-bbb4-48e1c71f9de1",
   "metadata": {},
   "outputs": [
    {
     "name": "stdout",
     "output_type": "stream",
     "text": [
      "<class 'pandas.core.frame.DataFrame'>\n",
      "RangeIndex: 3636 entries, 0 to 3635\n",
      "Data columns (total 6 columns):\n",
      " #   Column       Non-Null Count  Dtype  \n",
      "---  ------       --------------  -----  \n",
      " 0   date         3636 non-null   object \n",
      " 1   datetime     3636 non-null   object \n",
      " 2   cash_type    3636 non-null   object \n",
      " 3   card         3547 non-null   object \n",
      " 4   money        3636 non-null   float64\n",
      " 5   coffee_name  3636 non-null   object \n",
      "dtypes: float64(1), object(5)\n",
      "memory usage: 170.6+ KB\n",
      "None\n"
     ]
    }
   ],
   "source": [
    "print(rs.info())"
   ]
  },
  {
   "cell_type": "code",
   "execution_count": 10,
   "id": "da14a96b-10b9-41bd-ad18-0deb99113795",
   "metadata": {},
   "outputs": [
    {
     "name": "stdout",
     "output_type": "stream",
     "text": [
      "         date                 datetime cash_type                 card  money  \\\n",
      "0  2024-03-01  2024-03-01 10:15:50.520      card  ANON-0000-0000-0001   38.7   \n",
      "1  2024-03-01  2024-03-01 12:19:22.539      card  ANON-0000-0000-0002   38.7   \n",
      "2  2024-03-01  2024-03-01 12:20:18.089      card  ANON-0000-0000-0002   38.7   \n",
      "3  2024-03-01  2024-03-01 13:46:33.006      card  ANON-0000-0000-0003   28.9   \n",
      "4  2024-03-01  2024-03-01 13:48:14.626      card  ANON-0000-0000-0004   38.7   \n",
      "\n",
      "     coffee_name  \n",
      "0          Latte  \n",
      "1  Hot Chocolate  \n",
      "2  Hot Chocolate  \n",
      "3      Americano  \n",
      "4          Latte  \n"
     ]
    }
   ],
   "source": [
    "new_rs = rs.dropna()\n",
    "\n",
    "print(new_rs.head())"
   ]
  },
  {
   "cell_type": "code",
   "execution_count": 11,
   "id": "517a259a-46fb-4396-8ad8-98cf0189c176",
   "metadata": {},
   "outputs": [
    {
     "name": "stdout",
     "output_type": "stream",
     "text": [
      "0       False\n",
      "1       False\n",
      "2       False\n",
      "3       False\n",
      "4       False\n",
      "        ...  \n",
      "3631    False\n",
      "3632    False\n",
      "3633    False\n",
      "3634    False\n",
      "3635    False\n",
      "Length: 3547, dtype: bool\n"
     ]
    }
   ],
   "source": [
    "print(new_rs.duplicated())"
   ]
  },
  {
   "cell_type": "code",
   "execution_count": 13,
   "id": "ec736939-3728-4a75-8fe9-5d51919cbe25",
   "metadata": {},
   "outputs": [],
   "source": [
    "new_rs.to_csv('Retail_Sales.csv',index=False)"
   ]
  },
  {
   "cell_type": "code",
   "execution_count": 33,
   "id": "d5b85edf-ee3d-4fad-81cc-b561439b924a",
   "metadata": {},
   "outputs": [],
   "source": [
    "# Ubah kolom datetime jadi format datetime Python\n",
    "\n",
    "rs[\"datetime\"] = pd.to_datetime(rs[\"datetime\"])"
   ]
  },
  {
   "cell_type": "code",
   "execution_count": 34,
   "id": "9923d619-789e-4486-99bb-05a174f67ab6",
   "metadata": {},
   "outputs": [
    {
     "name": "stdout",
     "output_type": "stream",
     "text": [
      "Total penjualan:115431.58\n"
     ]
    }
   ],
   "source": [
    "# Total penjualan secara keseluruhan\n",
    "\n",
    "total_penjualan = rs[\"money\"].sum()\n",
    "print(f\"Total penjualan:{total_penjualan:.2f}\")"
   ]
  },
  {
   "cell_type": "code",
   "execution_count": 35,
   "id": "db933041-facc-42dc-9c1a-cc84400c7bc6",
   "metadata": {},
   "outputs": [
    {
     "name": "stdout",
     "output_type": "stream",
     "text": [
      "coffee_name\n",
      "Latte                  27866.30\n",
      "Americano with Milk    25269.12\n",
      "Cappuccino             18034.14\n",
      "Americano              15062.26\n",
      "Hot Chocolate          10172.46\n",
      "Cocoa                   8678.16\n",
      "Cortado                 7534.86\n",
      "Espresso                2814.28\n",
      "Name: money, dtype: float64\n"
     ]
    }
   ],
   "source": [
    "# Total penjualan per jenis kopi\n",
    "\n",
    "kopi_terlaris = rs.groupby(\"coffee_name\")[\"money\"].sum().sort_values(ascending=False)\n",
    "print(kopi_terlaris)"
   ]
  },
  {
   "cell_type": "code",
   "execution_count": 36,
   "id": "dfb49e8e-3b74-4189-ba44-cc3902c62c18",
   "metadata": {},
   "outputs": [
    {
     "name": "stdout",
     "output_type": "stream",
     "text": [
      "cash_type\n",
      "card    3547\n",
      "cash      89\n",
      "Name: count, dtype: int64\n"
     ]
    }
   ],
   "source": [
    "# Jumlah transaksi berdasarkan metode pembayaran\n",
    "\n",
    "jumlah_pembayaran = rs[\"cash_type\"].value_counts()\n",
    "print(jumlah_pembayaran)"
   ]
  },
  {
   "cell_type": "code",
   "execution_count": 37,
   "id": "99a376a9-6cde-4155-8179-56eef07f5908",
   "metadata": {},
   "outputs": [
    {
     "name": "stdout",
     "output_type": "stream",
     "text": [
      "date\n",
      "2024-03-01    396.30\n",
      "2024-03-02    228.10\n",
      "2024-03-03    349.10\n",
      "2024-03-04    135.20\n",
      "2024-03-05    338.50\n",
      "               ...  \n",
      "2025-03-19    623.56\n",
      "2025-03-20    597.60\n",
      "2025-03-21    636.80\n",
      "2025-03-22    365.42\n",
      "2025-03-23    204.76\n",
      "Name: money, Length: 381, dtype: float64\n"
     ]
    }
   ],
   "source": [
    "# Penjualan per hari\n",
    "\n",
    "rs[\"date\"] = pd.to_datetime(rs[\"date\"])\n",
    "penjualan_harian = rs.groupby(\"date\")[\"money\"].sum()\n",
    "print(penjualan_harian)"
   ]
  },
  {
   "cell_type": "code",
   "execution_count": 38,
   "id": "9888f758-55fd-4230-95e3-0911d1d0f6aa",
   "metadata": {},
   "outputs": [
    {
     "name": "stdout",
     "output_type": "stream",
     "text": [
      "Rata-rata transaksi: 31.75\n"
     ]
    }
   ],
   "source": [
    "# Rata-rata pembelian per transaksi\n",
    "\n",
    "rata_rata = rs[\"money\"].mean()\n",
    "print(f\"Rata-rata transaksi: {rata_rata:.2f}\")"
   ]
  },
  {
   "cell_type": "code",
   "execution_count": 40,
   "id": "8a28b53d-5de1-49eb-8c85-88ba83ec8a49",
   "metadata": {},
   "outputs": [],
   "source": [
    "# Simpan hasil data yang udah diolah\n",
    "\n",
    "rs.to_csv(\"penjualan_kopi.csv\", index=False)"
   ]
  },
  {
   "cell_type": "code",
   "execution_count": null,
   "id": "d348d83f-1113-4aca-b3f4-79bfefc14a2c",
   "metadata": {},
   "outputs": [],
   "source": []
  }
 ],
 "metadata": {
  "kernelspec": {
   "display_name": "Python 3 (ipykernel)",
   "language": "python",
   "name": "python3"
  },
  "language_info": {
   "codemirror_mode": {
    "name": "ipython",
    "version": 3
   },
   "file_extension": ".py",
   "mimetype": "text/x-python",
   "name": "python",
   "nbconvert_exporter": "python",
   "pygments_lexer": "ipython3",
   "version": "3.13.5"
  }
 },
 "nbformat": 4,
 "nbformat_minor": 5
}
